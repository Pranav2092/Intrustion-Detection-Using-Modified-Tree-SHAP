{
  "cells": [
    {
      "cell_type": "code",
      "execution_count": null,
      "metadata": {
        "colab": {
          "base_uri": "https://localhost:8080/"
        },
        "id": "PQyHNu5RwdPD",
        "outputId": "206db61b-ebf7-4330-d623-a1b11fda9dfe"
      },
      "outputs": [
        {
          "output_type": "stream",
          "name": "stdout",
          "text": [
            "Requirement already satisfied: shap in /usr/local/lib/python3.10/dist-packages (0.46.0)\n",
            "Requirement already satisfied: numpy in /usr/local/lib/python3.10/dist-packages (from shap) (1.26.4)\n",
            "Requirement already satisfied: scipy in /usr/local/lib/python3.10/dist-packages (from shap) (1.13.1)\n",
            "Requirement already satisfied: scikit-learn in /usr/local/lib/python3.10/dist-packages (from shap) (1.5.2)\n",
            "Requirement already satisfied: pandas in /usr/local/lib/python3.10/dist-packages (from shap) (2.2.2)\n",
            "Requirement already satisfied: tqdm>=4.27.0 in /usr/local/lib/python3.10/dist-packages (from shap) (4.66.5)\n",
            "Requirement already satisfied: packaging>20.9 in /usr/local/lib/python3.10/dist-packages (from shap) (24.1)\n",
            "Requirement already satisfied: slicer==0.0.8 in /usr/local/lib/python3.10/dist-packages (from shap) (0.0.8)\n",
            "Requirement already satisfied: numba in /usr/local/lib/python3.10/dist-packages (from shap) (0.60.0)\n",
            "Requirement already satisfied: cloudpickle in /usr/local/lib/python3.10/dist-packages (from shap) (3.1.0)\n",
            "Requirement already satisfied: llvmlite<0.44,>=0.43.0dev0 in /usr/local/lib/python3.10/dist-packages (from numba->shap) (0.43.0)\n",
            "Requirement already satisfied: python-dateutil>=2.8.2 in /usr/local/lib/python3.10/dist-packages (from pandas->shap) (2.8.2)\n",
            "Requirement already satisfied: pytz>=2020.1 in /usr/local/lib/python3.10/dist-packages (from pandas->shap) (2024.2)\n",
            "Requirement already satisfied: tzdata>=2022.7 in /usr/local/lib/python3.10/dist-packages (from pandas->shap) (2024.2)\n",
            "Requirement already satisfied: joblib>=1.2.0 in /usr/local/lib/python3.10/dist-packages (from scikit-learn->shap) (1.4.2)\n",
            "Requirement already satisfied: threadpoolctl>=3.1.0 in /usr/local/lib/python3.10/dist-packages (from scikit-learn->shap) (3.5.0)\n",
            "Requirement already satisfied: six>=1.5 in /usr/local/lib/python3.10/dist-packages (from python-dateutil>=2.8.2->pandas->shap) (1.16.0)\n"
          ]
        }
      ],
      "source": [
        "!pip install shap"
      ]
    },
    {
      "cell_type": "code",
      "execution_count": null,
      "metadata": {
        "id": "BYFGpVCHy_il"
      },
      "outputs": [],
      "source": [
        "import numpy as np\n",
        "import shap\n",
        "import random\n",
        "from sklearn.ensemble import RandomForestClassifier\n",
        "from collections import defaultdict"
      ]
    },
    {
      "cell_type": "code",
      "execution_count": null,
      "metadata": {
        "id": "jWxWcGXGzGlF"
      },
      "outputs": [],
      "source": [
        "def compute_node_importance(tree, feature_names):\n",
        "\n",
        "    node_importance = tree.tree_.compute_feature_importances(normalize=False)\n",
        "    return {feature_names[i]: node_importance[i] for i in range(len(feature_names))}\n"
      ]
    },
    {
      "cell_type": "code",
      "execution_count": null,
      "metadata": {
        "id": "yaNULrTWzex7"
      },
      "outputs": [],
      "source": [
        "def detect_feature_interactions(data, model):\n",
        "\n",
        "    interactions = {}\n",
        "    corr_matrix = np.corrcoef(data.T)\n",
        "    for i in range(len(corr_matrix)):\n",
        "        for j in range(i+1, len(corr_matrix)):\n",
        "            if np.abs(corr_matrix[i, j]) > 0.5:\n",
        "                interactions[(i, j)] = corr_matrix[i, j]\n",
        "    return interactions\n"
      ]
    },
    {
      "cell_type": "code",
      "source": [
        "def calculate_node_contribution(tree, node):\n",
        "    return tree.tree_.impurity[node] * tree.tree_.n_node_samples[node]"
      ],
      "metadata": {
        "id": "OyrC2cPVa4Na"
      },
      "execution_count": null,
      "outputs": []
    },
    {
      "cell_type": "code",
      "execution_count": null,
      "metadata": {
        "id": "Wfe0UMrfzpLK"
      },
      "outputs": [],
      "source": [
        "def initialize_data_structures(data, feature_names):\n",
        "\n",
        "    shap_values = np.zeros((data.shape[0], len(feature_names)))\n",
        "    return shap_values"
      ]
    },
    {
      "cell_type": "code",
      "execution_count": null,
      "metadata": {
        "id": "T-30LVPWzrZV"
      },
      "outputs": [],
      "source": [
        "def calculate_shap_contribution(node, feature_contributions):\n",
        "    contribution = feature_contributions[node]\n",
        "    return contribution"
      ]
    },
    {
      "cell_type": "code",
      "source": [
        "def adjust_for_interactions(contribution, feature_interactions, feature_names):\n",
        "    adjustment = np.zeros(len(feature_names))\n",
        "    for (f1, f2), interaction_value in feature_interactions.items():\n",
        "        adjustment[feature_names.index(f1)] += contribution * interaction_value\n",
        "        adjustment[feature_names.index(f2)] += contribution * interaction_value\n",
        "    return adjustment"
      ],
      "metadata": {
        "id": "lcpbUUN3ZSQh"
      },
      "execution_count": null,
      "outputs": []
    },
    {
      "cell_type": "code",
      "source": [
        "def depth_first_traversal(tree, depth_threshold):\n",
        "    def traverse(node, depth):\n",
        "        if depth <= depth_threshold:\n",
        "            yield node\n",
        "            if tree.tree_.children_left[node] != -1:\n",
        "                yield from traverse(tree.tree_.children_left[node], depth + 1)\n",
        "            if tree.tree_.children_right[node] != -1:\n",
        "                yield from traverse(tree.tree_.children_right[node], depth + 1)\n",
        "    yield from traverse(0, 0)"
      ],
      "metadata": {
        "id": "DGtQFCO1ZlFK"
      },
      "execution_count": null,
      "outputs": []
    },
    {
      "cell_type": "code",
      "source": [
        "def compute_shap_values(tree, node):\n",
        "    return np.array([tree.tree_.impurity[node]] * tree.tree_.n_node_samples[node])"
      ],
      "metadata": {
        "id": "T9m3tumjZpaK"
      },
      "execution_count": null,
      "outputs": []
    },
    {
      "cell_type": "code",
      "source": [
        "def detailed_shap_computation(tree, node):\n",
        "    return tree.tree_.impurity[node] * tree.tree_.n_node_samples[node]"
      ],
      "metadata": {
        "id": "YEKPr7LzZu4-"
      },
      "execution_count": null,
      "outputs": []
    },
    {
      "cell_type": "code",
      "source": [
        "def approximate_shap(tree, node):\n",
        "    return tree.tree_.impurity[node] * 0.5"
      ],
      "metadata": {
        "id": "ZIOYJ5IlZxmF"
      },
      "execution_count": null,
      "outputs": []
    },
    {
      "cell_type": "code",
      "source": [
        "def select_feature_subset(feature_names, subset_size, sampling_method):\n",
        "    num_features = int(len(feature_names) * subset_size)\n",
        "    if sampling_method == 'importance':\n",
        "        return random.sample(feature_names, num_features)\n",
        "    elif sampling_method == 'stratified':\n",
        "        return feature_names[:num_features]"
      ],
      "metadata": {
        "id": "xg00TWWhZ3WI"
      },
      "execution_count": null,
      "outputs": []
    },
    {
      "cell_type": "code",
      "source": [
        "def compute_subset_shap(subset_features, model, data):\n",
        "    explainer = shap.TreeExplainer(model)\n",
        "    shap_values = explainer.shap_values(data[subset_features])\n",
        "    return shap_values"
      ],
      "metadata": {
        "id": "tVWmpSeFaDkK"
      },
      "execution_count": null,
      "outputs": []
    },
    {
      "cell_type": "code",
      "source": [
        "def advanced_sampling(data, sampling_method, feature_importance):\n",
        "    if sampling_method == 'importance':\n",
        "        return data.sample(frac=0.5, weights=feature_importance, axis=1)\n",
        "    elif sampling_method == 'stratified':\n",
        "        return data.sample(frac=0.5, random_state=1)"
      ],
      "metadata": {
        "id": "C6-sqbySaH7e"
      },
      "execution_count": null,
      "outputs": []
    },
    {
      "cell_type": "code",
      "source": [
        "def compute_shap_for_sampled_data(sampled_data, model):\n",
        "    explainer = shap.TreeExplainer(model)\n",
        "    shap_values = explainer.shap_values(sampled_data)\n",
        "    return shap_values"
      ],
      "metadata": {
        "id": "4EXjqa78aLqc"
      },
      "execution_count": null,
      "outputs": []
    },
    {
      "cell_type": "code",
      "source": [
        "def combine_and_refine(shap_values, feature_interactions):\n",
        "    refined_values = shap_values.copy()\n",
        "    for (f1, f2), interaction_value in feature_interactions.items():\n",
        "        refined_values[:, f1] += refined_values[:, f2] * interaction_value\n",
        "        refined_values[:, f2] += refined_values[:, f1] * interaction_value\n",
        "    return refined_values"
      ],
      "metadata": {
        "id": "BkK4QHfCaPj3"
      },
      "execution_count": null,
      "outputs": []
    },
    {
      "cell_type": "code",
      "execution_count": null,
      "metadata": {
        "id": "fSqz9gyvztoB"
      },
      "outputs": [],
      "source": [
        "def modified_tree_shap(model, data, feature_names, depth_threshold=0.1, subset_size=0.5, sampling_method='importance'):\n",
        "    shap_values = np.zeros((data.shape[0], data.shape[1]))\n",
        "\n",
        "    # Node Importance and Feature Interactions\n",
        "    node_importance = {}\n",
        "    for i, tree in enumerate(model.estimators_):\n",
        "        node_importance[i] = compute_node_importance(tree)\n",
        "\n",
        "    feature_interactions = detect_feature_interactions(data, feature_names)\n",
        "\n",
        "    # Dynamic Feature Interaction Handling\n",
        "    for i, tree in enumerate(model.estimators_):\n",
        "        for node in range(tree.tree_.node_count):\n",
        "            if node in node_importance[i]:\n",
        "                contribution = calculate_node_contribution(tree, node)\n",
        "                shap_values += adjust_for_interactions(contribution, feature_interactions, feature_names)\n",
        "\n",
        "    # Adaptive Tree Depth Limiting\n",
        "    for i, tree in enumerate(model.estimators_):\n",
        "        for node in depth_first_traversal(tree, depth_threshold):\n",
        "            if node_importance[i][node] > depth_threshold:\n",
        "                shap_values += compute_shap_values(tree, node)\n",
        "\n",
        "    # Hierarchical Importance-Based Caching\n",
        "    cache = {}\n",
        "    for i, tree in enumerate(model.estimators_):\n",
        "        for node in range(tree.tree_.node_count):\n",
        "            if node_importance[i][node] > depth_threshold:\n",
        "                cache[node] = detailed_shap_computation(tree, node)\n",
        "            else:\n",
        "                cache[node] = approximate_shap(tree, node)\n",
        "\n",
        "    # Approximate SHAP with Feature Subsets\n",
        "    subset_features = select_feature_subset(feature_names, subset_size, sampling_method)\n",
        "    shap_values += compute_subset_shap(subset_features, model, data)\n",
        "\n",
        "    # Advanced Sampling Techniques\n",
        "    sampled_data = advanced_sampling(data, sampling_method, feature_importance=model.feature_importances_)\n",
        "    shap_values += compute_shap_for_sampled_data(sampled_data, model)\n",
        "\n",
        "    # Combine and Refine Results\n",
        "    shap_values = combine_and_refine(shap_values, feature_interactions)\n",
        "\n",
        "    return shap_values"
      ]
    },
    {
      "cell_type": "code",
      "execution_count": null,
      "metadata": {
        "id": "znsOKtf-zxuP"
      },
      "outputs": [],
      "source": [
        "import pandas as pd\n",
        "from sklearn.model_selection import train_test_split\n",
        "from sklearn.ensemble import RandomForestClassifier\n",
        "from sklearn.metrics import accuracy_score"
      ]
    },
    {
      "cell_type": "code",
      "execution_count": null,
      "metadata": {
        "colab": {
          "base_uri": "https://localhost:8080/"
        },
        "id": "1hQBY41cz0TO",
        "outputId": "5ad869ab-2fc9-497e-82cd-bde2bd5621d7"
      },
      "outputs": [
        {
          "output_type": "stream",
          "name": "stdout",
          "text": [
            "Drive already mounted at /content/drive; to attempt to forcibly remount, call drive.mount(\"/content/drive\", force_remount=True).\n"
          ]
        }
      ],
      "source": [
        "from google.colab import drive\n",
        "drive.mount('/content/drive')"
      ]
    },
    {
      "cell_type": "code",
      "execution_count": null,
      "metadata": {
        "id": "7vlDSB5e0XYZ"
      },
      "outputs": [],
      "source": [
        "file_path = '/content/drive/My Drive/UNSW_NB15_training-set.csv'\n",
        "unsw_nb15_data = pd.read_csv(file_path)"
      ]
    },
    {
      "cell_type": "code",
      "execution_count": null,
      "metadata": {
        "id": "ZL9ZGk8S1VsK",
        "colab": {
          "base_uri": "https://localhost:8080/"
        },
        "outputId": "8768fb7c-19e8-4284-93bb-8ee9c02aa6e7"
      },
      "outputs": [
        {
          "output_type": "stream",
          "name": "stdout",
          "text": [
            "   id       dur proto service state  spkts  dpkts  sbytes  dbytes  \\\n",
            "0   1  0.000011   udp       -   INT      2      0     496       0   \n",
            "1   2  0.000008   udp       -   INT      2      0    1762       0   \n",
            "2   3  0.000005   udp       -   INT      2      0    1068       0   \n",
            "3   4  0.000006   udp       -   INT      2      0     900       0   \n",
            "4   5  0.000010   udp       -   INT      2      0    2126       0   \n",
            "\n",
            "          rate  ...  ct_dst_sport_ltm  ct_dst_src_ltm  is_ftp_login  \\\n",
            "0   90909.0902  ...                 1               2             0   \n",
            "1  125000.0003  ...                 1               2             0   \n",
            "2  200000.0051  ...                 1               3             0   \n",
            "3  166666.6608  ...                 1               3             0   \n",
            "4  100000.0025  ...                 1               3             0   \n",
            "\n",
            "   ct_ftp_cmd  ct_flw_http_mthd  ct_src_ltm  ct_srv_dst  is_sm_ips_ports  \\\n",
            "0           0                 0           1           2                0   \n",
            "1           0                 0           1           2                0   \n",
            "2           0                 0           1           3                0   \n",
            "3           0                 0           2           3                0   \n",
            "4           0                 0           2           3                0   \n",
            "\n",
            "   attack_cat  label  \n",
            "0      Normal      0  \n",
            "1      Normal      0  \n",
            "2      Normal      0  \n",
            "3      Normal      0  \n",
            "4      Normal      0  \n",
            "\n",
            "[5 rows x 45 columns]\n",
            "id                     int64\n",
            "dur                  float64\n",
            "proto                 object\n",
            "service               object\n",
            "state                 object\n",
            "spkts                  int64\n",
            "dpkts                  int64\n",
            "sbytes                 int64\n",
            "dbytes                 int64\n",
            "rate                 float64\n",
            "sttl                   int64\n",
            "dttl                   int64\n",
            "sload                float64\n",
            "dload                float64\n",
            "sloss                  int64\n",
            "dloss                  int64\n",
            "sinpkt               float64\n",
            "dinpkt               float64\n",
            "sjit                 float64\n",
            "djit                 float64\n",
            "swin                   int64\n",
            "stcpb                  int64\n",
            "dtcpb                  int64\n",
            "dwin                   int64\n",
            "tcprtt               float64\n",
            "synack               float64\n",
            "ackdat               float64\n",
            "smean                  int64\n",
            "dmean                  int64\n",
            "trans_depth            int64\n",
            "response_body_len      int64\n",
            "ct_srv_src             int64\n",
            "ct_state_ttl           int64\n",
            "ct_dst_ltm             int64\n",
            "ct_src_dport_ltm       int64\n",
            "ct_dst_sport_ltm       int64\n",
            "ct_dst_src_ltm         int64\n",
            "is_ftp_login           int64\n",
            "ct_ftp_cmd             int64\n",
            "ct_flw_http_mthd       int64\n",
            "ct_src_ltm             int64\n",
            "ct_srv_dst             int64\n",
            "is_sm_ips_ports        int64\n",
            "attack_cat            object\n",
            "label                  int64\n",
            "dtype: object\n",
            "Categorical columns: ['proto', 'service', 'state', 'attack_cat']\n",
            "Accuracy of the model: 99.96%\n"
          ]
        }
      ],
      "source": [
        "print(unsw_nb15_data.head())\n",
        "print(unsw_nb15_data.dtypes)\n",
        "\n",
        "categorical_cols = unsw_nb15_data.select_dtypes(include=['object']).columns.tolist()\n",
        "print(\"Categorical columns:\", categorical_cols)\n",
        "\n",
        "unsw_nb15_data_encoded = pd.get_dummies(unsw_nb15_data, columns=categorical_cols, drop_first=True)\n",
        "\n",
        "X = unsw_nb15_data_encoded.iloc[:, :-1]\n",
        "y = unsw_nb15_data_encoded.iloc[:, -1]\n",
        "\n",
        "\n",
        "X_train, X_test, y_train, y_test = train_test_split(X, y, test_size=0.2, random_state=42)\n",
        "\n",
        "\n",
        "rf_model = RandomForestClassifier(n_estimators=100, random_state=42)\n",
        "rf_model.fit(X_train, y_train)\n",
        "\n",
        "\n",
        "y_pred = rf_model.predict(X_test)\n",
        "\n",
        "\n",
        "accuracy = accuracy_score(y_test, y_pred)\n",
        "print(f\"Accuracy of the model: {accuracy * 100:.2f}%\")"
      ]
    },
    {
      "cell_type": "code",
      "execution_count": null,
      "metadata": {
        "id": "MWdQWRtngaZN"
      },
      "outputs": [],
      "source": [
        "explainer = shap.TreeExplainer(rf_model)\n",
        "shap_values = explainer.shap_values(X_test)"
      ]
    },
    {
      "cell_type": "code",
      "execution_count": null,
      "metadata": {
        "id": "R7k228IVg_Mf",
        "colab": {
          "base_uri": "https://localhost:8080/"
        },
        "outputId": "ebec2c5b-9666-417f-91e9-2f2e03456a8a"
      },
      "outputs": [
        {
          "output_type": "stream",
          "name": "stdout",
          "text": [
            "[[[ 3.99061019e-05 -3.99061019e-05]\n",
            "  [-1.10143298e-04  1.10143298e-04]\n",
            "  [ 6.30226334e-05 -6.30226334e-05]\n",
            "  ...\n",
            "  [ 1.46444267e-04 -1.46444267e-04]\n",
            "  [-3.01364005e-05  3.01364005e-05]\n",
            "  [-1.22544953e-06  1.22544953e-06]]\n",
            "\n",
            " [[-2.78844204e-05  2.78844204e-05]\n",
            "  [-1.68407193e-04  1.68407193e-04]\n",
            "  [-1.24969634e-04  1.24969634e-04]\n",
            "  ...\n",
            "  [-2.28545224e-04  2.28545224e-04]\n",
            "  [-7.59011099e-05  7.59011099e-05]\n",
            "  [-1.99189839e-06  1.99189839e-06]]\n",
            "\n",
            " [[ 1.64201803e-04 -1.64201803e-04]\n",
            "  [-1.46162158e-04  1.46162158e-04]\n",
            "  [-1.61414851e-04  1.61414851e-04]\n",
            "  ...\n",
            "  [-3.52686690e-04  3.52686690e-04]\n",
            "  [-1.30357209e-04  1.30357209e-04]\n",
            "  [-6.33782818e-06  6.33782818e-06]]\n",
            "\n",
            " ...\n",
            "\n",
            " [[ 1.09393150e-04 -1.09393150e-04]\n",
            "  [-4.92725477e-04  4.92725477e-04]\n",
            "  [-2.14705306e-04  2.14705306e-04]\n",
            "  ...\n",
            "  [-2.92123420e-04  2.92123420e-04]\n",
            "  [-1.60765069e-04  1.60765069e-04]\n",
            "  [-2.00931154e-06  2.00931154e-06]]\n",
            "\n",
            " [[ 1.21744028e-04 -1.21744028e-04]\n",
            "  [-1.65160805e-04  1.65160805e-04]\n",
            "  [-1.42266961e-04  1.42266961e-04]\n",
            "  ...\n",
            "  [-3.03441922e-04  3.03441922e-04]\n",
            "  [-8.65947212e-05  8.65947212e-05]\n",
            "  [-3.64900720e-06  3.64900720e-06]]\n",
            "\n",
            " [[ 3.94186489e-05 -3.94186489e-05]\n",
            "  [-3.05636193e-04  3.05636193e-04]\n",
            "  [ 7.25361223e-05 -7.25361223e-05]\n",
            "  ...\n",
            "  [ 1.45295609e-04 -1.45295609e-04]\n",
            "  [-2.73527387e-05  2.73527387e-05]\n",
            "  [-1.17761365e-06  1.17761365e-06]]]\n"
          ]
        }
      ],
      "source": [
        "print(shap_values)"
      ]
    },
    {
      "cell_type": "code",
      "source": [
        "shap.summary_plot(shap_values, X_test, max_display=20)"
      ],
      "metadata": {
        "id": "u7yqCS5lohKO",
        "colab": {
          "base_uri": "https://localhost:8080/",
          "height": 1000
        },
        "outputId": "03eeb5a6-5b2e-41f0-a327-501ba67a2184"
      },
      "execution_count": null,
      "outputs": [
        {
          "output_type": "display_data",
          "data": {
            "text/plain": [
              "<Figure size 3100x1700 with 2 Axes>"
            ],
            "image/png": "[encoded data removed]"
          },
          "metadata": {}
        }
      ]
    }
  ],
  "metadata": {
    "colab": {
      "provenance": []
    },
    "kernelspec": {
      "display_name": "Python 3",
      "name": "python3"
    },
    "language_info": {
      "name": "python"
    }
  },
  "nbformat": 4,
  "nbformat_minor": 0
}